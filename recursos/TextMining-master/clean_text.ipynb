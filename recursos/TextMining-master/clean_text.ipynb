{
 "cells": [
  {
   "cell_type": "code",
   "execution_count": null,
   "metadata": {
    "collapsed": true
   },
   "outputs": [],
   "source": [
    "#imports\n",
    "\n",
    "import pandas as pd\n",
    "import numpy as np\n",
    "from pandas import Series, DataFrame\n",
    "\n",
    "import re\n",
    "\n",
    "from os import listdir\n",
    "from os.path import isfile, join\n",
    "import gzip\n"
   ]
  },
  {
   "cell_type": "code",
   "execution_count": null,
   "metadata": {
    "collapsed": true
   },
   "outputs": [],
   "source": [
    "#DataFrame a partir de los zip de los subtitulos\n",
    "def file_list(dir_path=\"./data/subtitles/\"):\n",
    "    \n",
    "    #Listado de archivos en carpeta\n",
    "    file_list = listdir(dir_path)\n",
    "    return [join(dir_path, file_name) for file_name in file_list]"
   ]
  },
  {
   "cell_type": "code",
   "execution_count": null,
   "metadata": {
    "collapsed": true
   },
   "outputs": [],
   "source": [
    "#Función para pasar de rating numérico a categórico, el límite es arbitrario.\n",
    "def ratingCategory(x):\n",
    "    if x>=7:\n",
    "        return 'Buy cinema ticket'\n",
    "    else:\n",
    "        return 'Wait for Netflix';"
   ]
  },
  {
   "cell_type": "code",
   "execution_count": null,
   "metadata": {
    "collapsed": true
   },
   "outputs": [],
   "source": [
    "#Levantamos la lista de pelis con los otros atributos.\n",
    "def imdb_discretized_dataset(file_path = \"./data/imdb_merged_movies.tsv\"):\n",
    "    movies_info=pd.read_csv(file_path,delimiter='\\t',encoding='utf-8')\n",
    "    #Discretización del rating\n",
    "    movies_info['rating']=movies_info.averageRating.apply(lambda x: ratingCategory(x))\n",
    "    return movies_info;"
   ]
  },
  {
   "cell_type": "code",
   "execution_count": null,
   "metadata": {
    "collapsed": true
   },
   "outputs": [],
   "source": [
    "def clean_text(text):\n",
    "    \n",
    "    #Elimino en nro inicial\n",
    "    text = re.sub('(1\\n)',\"\\n\",text)\n",
    "    \n",
    "    #Eliminamos los tiempos\n",
    "    text = re.sub('(\\d{1,2}:\\d{1,2}:\\d{1,2},\\d{1,3} --> \\d{1,2}:\\d{1,2}:\\d{1,2},\\d{1,3})',\"\",text)\n",
    "    \n",
    "    #Eliminamos los \\n que andan sueltos por el texto\n",
    "    text = re.sub('(\\r{0,1}\\n\\d{0,4})',\" \",text)\n",
    "    #Eliminamos los \\r que andan sueltos por el texto\n",
    "    text = re.sub('(\\r{0,1}\\n)',\" \",text)\n",
    "    \n",
    "    #Eliminamos los \\' que están puestos para las abreviaturas, en vez de espacio \n",
    "    #debería reemplazarse por: \"'\" pero no me anduvo.\n",
    "    text = re.sub(\"(\\\\')\",\"\",text)\n",
    "    #Eliminamos los <i>...</i>\n",
    "    text = re.sub(\"(<i>)\",\"\",text)\n",
    "    text = re.sub(\"(</i>)\",\"\",text)\n",
    "    \n",
    "    #Eliminamos símbolo musical\n",
    "    text = re.sub(\"♪\",\"\",text)\n",
    "    #Eliminamos sentencias del estilo: \\lalala , pero no me está funcionando, es porque en \n",
    "    #algunos textos vi: \\ufeff1 o \\xa0 \n",
    "    #pero no sé por qué no me toma la regex. Igual el tokenizador lo saco, ver debajo.\n",
    "    text = re.sub('(\\\\\\w+\\s)',\" \",text)\n",
    "    \n",
    "    #Elimino todo lo que esté entre (), que son aclaraciones del contexto, no hacen al diálogo.\n",
    "    #Por ejemplo ( onlookers groan ), ( man grunts, groans )\n",
    "    #Le pongo el ? para que sea non-greedy.\n",
    "    # Algunos están entre []; ejemplo [ jingle ]\n",
    "    text = re.sub(r\"\\(.*?\\)\",\" \", text)\n",
    "    text = re.sub(r\"\\[.*?\\]\",\" \", text)\n",
    "    text = re.sub(r\"\\<.*?\\>\",\" \", text)\n",
    "    \n",
    "    text = re.sub(r\"\\ufeff1\",\" \", text)\n",
    "    #Elimino la publicidad del subtitutlo al final del documento\n",
    "    text = re.sub(\"[cC]aption[s]{0,1} by.*$\",\"\", text)\n",
    "    text = re.sub(\"[sS]ubtitle[s]{0,1} by.*$\",\"\", text)\n",
    "\n",
    "    \n",
    "    #Si hay varios espacios los dejamos en uno sólo.\n",
    "    text = re.sub(\" +\",\" \",text)\n",
    "    \n",
    "    text= text.lower().strip()\n",
    "    return text "
   ]
  },
  {
   "cell_type": "code",
   "execution_count": null,
   "metadata": {
    "collapsed": true
   },
   "outputs": [],
   "source": [
    "def get_text(file_path):\n",
    "    # funcion simple que carga texto zipeado, lee y decodifica\n",
    "    return clean_text(gzip.open(file_path).read().decode(\"utf8\",\"ignore\"))\n",
    "    "
   ]
  },
  {
   "cell_type": "code",
   "execution_count": null,
   "metadata": {
    "collapsed": true
   },
   "outputs": [],
   "source": [
    "text_list = [get_text(file) for file in file_list()]\n",
    "text_df = DataFrame({\"tconst\":[ f.split(\".\")[1].split(\"/\")[-1] for f in file_list()],\"raw_text\":text_list})\n",
    "\n",
    "#Join with IMDB dataset\n",
    "#Obtengo la base de datos de IMDB, con la clase discretizada\n",
    "imdb_df=imdb_discretized_dataset()\n",
    "\n",
    "df = pd.merge(imdb_df,text_df, on=\"tconst\" , how=\"inner\").set_index(\"tconst\")"
   ]
  },
  {
   "cell_type": "code",
   "execution_count": null,
   "metadata": {},
   "outputs": [],
   "source": [
    "df.head()"
   ]
  },
  {
   "cell_type": "code",
   "execution_count": null,
   "metadata": {
    "collapsed": true
   },
   "outputs": [],
   "source": [
    "import pickle\n",
    "#df.to_pickle('./data/dataframe/dataframe.pkl')\n",
    "with open('./data/dataframe/dataframe.pkl', 'wb') as f:\n",
    "        pickle.dump(df, f, protocol=2)"
   ]
  },
  {
   "cell_type": "code",
   "execution_count": null,
   "metadata": {},
   "outputs": [],
   "source": [
    "my_movie=pd.read_pickle('./data/dataframe/dataframe.pkl')\n",
    "len(my_movie)"
   ]
  }
 ],
 "metadata": {
  "kernelspec": {
   "display_name": "Python 3",
   "language": "python",
   "name": "python3"
  },
  "language_info": {
   "codemirror_mode": {
    "name": "ipython",
    "version": 3
   },
   "file_extension": ".py",
   "mimetype": "text/x-python",
   "name": "python",
   "nbconvert_exporter": "python",
   "pygments_lexer": "ipython3",
   "version": "3.6.1"
  }
 },
 "nbformat": 4,
 "nbformat_minor": 2
}
