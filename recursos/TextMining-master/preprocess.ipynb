{
 "cells": [
  {
   "cell_type": "code",
   "execution_count": 3,
   "metadata": {
    "collapsed": true
   },
   "outputs": [],
   "source": [
    "import re\n",
    "from nltk import word_tokenize, sent_tokenize\n",
    "from nltk.corpus import stopwords\n",
    "from nltk import pos_tag\n",
    "from nltk.stem import WordNetLemmatizer\n",
    "from nltk.corpus import wordnet\n",
    "from nltk.stem import SnowballStemmer\n"
   ]
  },
  {
   "cell_type": "code",
   "execution_count": null,
   "metadata": {
    "collapsed": true
   },
   "outputs": [],
   "source": [
    "# Lematizacion: lleva una palabra a su forma canónica\n",
    "#Función que lematiza según el tag de la palabra\n",
    "def word_pos_to_lemma(word,pos,wnl):\n",
    "    if pos.startswith('J'):\n",
    "        return wnl.lemmatize(word,wordnet.ADJ) # adjetivo\n",
    "    elif pos.startswith('V'):\n",
    "        return wnl.lemmatize(word,wordnet.VERB) # vervo\n",
    "    elif pos.startswith('N'):\n",
    "        return wnl.lemmatize(word,wordnet.NOUN)# sustantivo\n",
    "    elif pos.startswith('R'):\n",
    "        return wnl.lemmatize(word,wordnet.ADV) # advervio\n",
    "    else:\n",
    "        return wnl.lemmatize(word);\n",
    "    \n",
    "def lemmatizer(text):\n",
    "    postags = pos_tag(word_tokenize(text))\n",
    "    wnl = WordNetLemmatizer()\n",
    "    return ' '.join([word_pos_to_lemma(w,pos,wnl) for w,pos in postags])\n",
    " \n",
    "def stemmer(wordsTokenize):\n",
    "    _stemmer = SnowballStemmer(\"english\")\n",
    "    return [_stemmer.stem(w) for w in wordsTokenize]\n",
    "\n",
    "#Tokenizador que se queda con los no numéricos que son de longitud mayor a 1\n",
    "#Le quite la condición is_alpha() porque si ejecuto la función despues de hacer collocations, me eliminaba las palabras que unía el collocation\n",
    "def tokenizer(text):\n",
    "    return [w for w in word_tokenize(text) if len(w)>1]\n",
    "\n",
    "def remove_stopwords(text):\n",
    "    stoplist = stopwords.words(\"english\")\n",
    "    return \" \".join([w for w in tokenizer(text) if w not in stoplist])\n",
    "\n",
    "def sentence_tokenizer(text):\n",
    "    sentences =  [word_tokenize(sent) for sent in sent_tokenize(text)]\n",
    "    return [sent for sent in sentences if len(sent)>1]\n",
    "#def preprocess(text):\n",
    "#    return  ' '.join([w for w in stemmer(lemmatizer(remove_stopwords(tokenizer(text))))]) "
   ]
  },
  {
   "cell_type": "code",
   "execution_count": null,
   "metadata": {
    "collapsed": true
   },
   "outputs": [],
   "source": [
    "preprocess(\"La vida es bella. Lo sabemos todos.\")"
   ]
  }
 ],
 "metadata": {
  "kernelspec": {
   "display_name": "Python 3",
   "language": "python",
   "name": "python3"
  },
  "language_info": {
   "codemirror_mode": {
    "name": "ipython",
    "version": 3
   },
   "file_extension": ".py",
   "mimetype": "text/x-python",
   "name": "python",
   "nbconvert_exporter": "python",
   "pygments_lexer": "ipython3",
   "version": "3.6.1"
  }
 },
 "nbformat": 4,
 "nbformat_minor": 2
}
