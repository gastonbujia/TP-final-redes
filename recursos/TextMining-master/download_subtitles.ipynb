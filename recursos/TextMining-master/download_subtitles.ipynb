{
 "cells": [
  {
   "cell_type": "code",
   "execution_count": null,
   "metadata": {
    "collapsed": true
   },
   "outputs": [],
   "source": [
    "import pandas as pd\n",
    "#para la conexion con la API opensubtitle.org\n",
    "import xmlrpc.client"
   ]
  },
  {
   "cell_type": "code",
   "execution_count": null,
   "metadata": {
    "collapsed": true
   },
   "outputs": [],
   "source": [
    "def imdb_movies_by_year(year) :\n",
    "    imdb_films = pd.read_csv('imdb_merged_movies.tsv', sep='\\t') \n",
    "    imdb_films = imdb_films[imdb_films['startYear']==year]\n",
    "    imdb_films = imdb_films.reset_index(drop=True)\n",
    "    return imdb_films;"
   ]
  },
  {
   "cell_type": "code",
   "execution_count": null,
   "metadata": {
    "collapsed": true
   },
   "outputs": [],
   "source": [
    "#Me quedo con los ids sin el prefijo tt, me parece que la API de opensubtitles.org los necesita sin el prefijo\n",
    "def clean(movie_id):\n",
    "    clean = movie_id.replace(\"t\",\"\")\n",
    "    clean = clean.replace(\".zip\",\"\")\n",
    "    return clean;"
   ]
  },
  {
   "cell_type": "code",
   "execution_count": null,
   "metadata": {
    "collapsed": true
   },
   "outputs": [],
   "source": [
    "#conexion a la API opensubtitle.org\n",
    "url = 'https://api.opensubtitles.org/xml-rpc'\n",
    "proxy = xmlrpc.client.ServerProxy(url)\n",
    "username='ckruzy' #set your username here\n",
    "password='t3xtM1n1ng2018' #set your password here\n",
    "def token():\n",
    "    token = proxy.LogIn(username,password ,'en','textMiningFinalProject')['token']\n",
    "    return token;"
   ]
  },
  {
   "cell_type": "code",
   "execution_count": null,
   "metadata": {
    "collapsed": true
   },
   "outputs": [],
   "source": [
    "def openSubtitle_movies_info(lwr,parameters,dataframe=None):\n",
    "    upr=lwr+500 if lwr+500<len(parameters) else len(parameters)\n",
    "    data=proxy.SearchSubtitles(token(), parameters[lwr:upr])\n",
    "    if dataframe is not None:\n",
    "        dataframe=dataframe.append(pd.DataFrame(data['data']))\n",
    "    else:\n",
    "        dataframe=pd.DataFrame(data['data'])\n",
    "    return dataframe;"
   ]
  },
  {
   "cell_type": "code",
   "execution_count": null,
   "metadata": {
    "collapsed": true
   },
   "outputs": [],
   "source": [
    "def openSubtitle_movies(imdb_movies):\n",
    "    parameters=[]\n",
    "    for x in range(0,len(imdb_movies)):\n",
    "        parameters.append({'imdbid':clean(imdb_movies.tconst[x]),'sublanguageid':'eng'})\n",
    "    lwr=0\n",
    "    while (lwr<len(parameters)):\n",
    "        movies=openSubtitle_movies_info(lwr,parameters) if lwr==0 else openSubtitle_movies_info(lwr,parameters,movies)\n",
    "        lwr=lwr+500\n",
    "    try:\n",
    "        movies=movies.drop_duplicates(subset='IDMovieImdb', keep='first', inplace=False)\n",
    "    except KeyError:\n",
    "        print(\"KeyError \")\n",
    "        print(len(movies))\n",
    "    movies = movies.reset_index(drop=True)\n",
    "    return movies;"
   ]
  },
  {
   "cell_type": "code",
   "execution_count": null,
   "metadata": {
    "collapsed": true,
    "pixiedust": {
     "displayParams": {}
    }
   },
   "outputs": [],
   "source": [
    "#opensubtitles.org tiene un límite de descarga de 200 subtítulos por día para las cuentas gratuitas\n",
    "def download_Subtitles(movies,lwr):\n",
    "    upr=lwr+20\n",
    "\n",
    "    while (lwr<=len(movies)):\n",
    "        subtitleszips=proxy.DownloadSubtitles(token(),movies['IDSubtitleFile'][lwr:upr].tolist())\n",
    "        try:\n",
    "            saveSubtitles(subtitleszips, movies)\n",
    "        except TypeError:\n",
    "            print(\"Limit exceed ... lwr=\"+str(lwr))\n",
    "            return lwr\n",
    "        lwr=lwr+20\n",
    "        upr=upr+20 if upr+20 < len(movies) else len(movies)\n",
    "    \n",
    "    return lwr;"
   ]
  },
  {
   "cell_type": "code",
   "execution_count": null,
   "metadata": {
    "collapsed": true
   },
   "outputs": [],
   "source": [
    "import base64\n",
    "def saveSubtitles(zips,movies):\n",
    "    len(zips['data'])\n",
    "    for subtitle in zips['data']:\n",
    "        file=base64.b64decode(subtitle['data'])\n",
    "        idsubtitlefile = subtitle['idsubtitlefile']\n",
    "        idimdb = movies[movies['IDSubtitleFile']==idsubtitlefile]['IDMovieImdb'].reset_index(drop=True)[0]\n",
    "        with open('tt'+idimdb+'.zip','wb') as f:\n",
    "            f.write(file)\n",
    "            f.close()"
   ]
  },
  {
   "cell_type": "code",
   "execution_count": null,
   "metadata": {
    "collapsed": true
   },
   "outputs": [],
   "source": [
    "from os import listdir\n",
    "def drop_downloaded(movies,year):\n",
    "    folder_path = \"./subtitles\"+str(year)+\"/\" \n",
    "    file_list = listdir(folder_path)\n",
    "    file_list = [x.replace(\".zip\",\"\") for x in file_list]\n",
    "\n",
    "    new_movies=movies[~movies.tconst.isin(file_list)]\n",
    "    new_movies=new_movies.reset_index(drop=True)\n",
    "    return new_movies;"
   ]
  },
  {
   "cell_type": "code",
   "execution_count": null,
   "metadata": {
    "collapsed": true
   },
   "outputs": [],
   "source": [
    "year=2018.0\n",
    "movies=imdb_movies_by_year(year) #busca los títulos del año indicado\n",
    "print(len(movies))\n",
    "movies=drop_downloaded(movies,int(year)) #elimina los ids de aquellos para los que ya descargo los subtitulos\n",
    "len(movies)"
   ]
  },
  {
   "cell_type": "code",
   "execution_count": null,
   "metadata": {
    "collapsed": true
   },
   "outputs": [],
   "source": [
    "openSub_movies=openSubtitle_movies(movies)#Busca información de los subtitulos en opensubtiles.org\n",
    "print(len(openSub_movies))"
   ]
  },
  {
   "cell_type": "code",
   "execution_count": null,
   "metadata": {
    "collapsed": true
   },
   "outputs": [],
   "source": [
    "cant=download_Subtitles(openSub_movies,0) #Descarga los archivos de los subtitulos de opensubtitles.org\n",
    "print(cant)"
   ]
  }
 ],
 "metadata": {
  "kernelspec": {
   "display_name": "Python 3",
   "language": "python",
   "name": "python3"
  },
  "language_info": {
   "codemirror_mode": {
    "name": "ipython",
    "version": 3
   },
   "file_extension": ".py",
   "mimetype": "text/x-python",
   "name": "python",
   "nbconvert_exporter": "python",
   "pygments_lexer": "ipython3",
   "version": "3.6.1"
  }
 },
 "nbformat": 4,
 "nbformat_minor": 2
}
